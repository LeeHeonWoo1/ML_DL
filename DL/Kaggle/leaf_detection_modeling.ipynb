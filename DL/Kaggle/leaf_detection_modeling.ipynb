{
 "cells": [
  {
   "cell_type": "markdown",
   "metadata": {},
   "source": [
    "### 베이스 라인 모델링\n",
    "세 단계에 걸쳐 모델링을 진행한다.\n",
    "\n",
    "- 1. 데이터 준비 과정에서 이미지 변환기로 데이터를 증강\n",
    "- 2. 사전 훈련된 모델을 이용해 전이학습 진행\n",
    "- 3. 모델 훈련과 성능 검증을 동시에 진행하면서 훈련을 반복"
   ]
  },
  {
   "cell_type": "code",
   "execution_count": 1,
   "metadata": {},
   "outputs": [],
   "source": [
    "# 시드값 고정, GPU 장비 설정\n",
    "import torch\n",
    "import random\n",
    "import numpy as np\n",
    "import os\n",
    "\n",
    "# 시드값 고정\n",
    "seed = 50\n",
    "os.environ['PYTHONHASHSPEED'] = str(seed)\n",
    "random.seed(seed)\n",
    "np.random.seed(seed)\n",
    "torch.manual_seed(seed)\n",
    "torch.cuda.manual_seed(seed)\n",
    "torch.cuda.manual_seed_all(seed)\n",
    "torch.backends.cudnn.deterministic = True\n",
    "torch.backends.cudnn.benchmark = False\n",
    "torch.backends.cudnn.enable = False"
   ]
  },
  {
   "cell_type": "code",
   "execution_count": 2,
   "metadata": {},
   "outputs": [
    {
     "data": {
      "text/plain": [
       "device(type='cuda')"
      ]
     },
     "execution_count": 2,
     "metadata": {},
     "output_type": "execute_result"
    }
   ],
   "source": [
    "device = torch.device('cuda' if torch.cuda.is_available() else 'cpu')\n",
    "device"
   ]
  },
  {
   "cell_type": "markdown",
   "metadata": {},
   "source": [
    "### 데이터 불러오기\n",
    "\n",
    "데이터를 불러와서 train, validation set으로 분할한다"
   ]
  },
  {
   "cell_type": "code",
   "execution_count": 3,
   "metadata": {},
   "outputs": [],
   "source": [
    "import pandas as pd\n",
    "\n",
    "train = pd.read_csv('./data/train.csv')\n",
    "test = pd.read_csv('./data/test.csv')\n",
    "sub = pd.read_csv('./data/sample_submission.csv')"
   ]
  },
  {
   "cell_type": "code",
   "execution_count": 4,
   "metadata": {},
   "outputs": [],
   "source": [
    "from sklearn.model_selection import train_test_split\n",
    "\n",
    "# test_size = train set : validation set의 비율을 정한다\n",
    "# stratify = 데이터 클래스 분포 비율을 맞춰주는 옵션 \n",
    "train, validation = train_test_split(train, test_size=0.1, stratify=train[['healthy', 'multiple_diseases', 'rust', 'scab']], random_state=50)"
   ]
  },
  {
   "cell_type": "markdown",
   "metadata": {},
   "source": [
    "### 데이터 셋 클래스 정의하기\n",
    "\n",
    "파이토치로 신경망 모델을 구축하려면 데이터셋도 일정한 형식에 맞게 정의해줘야한다.\n",
    "\n",
    "파이토치에서 제공하는 Dataset클래스를 활용해서 데이터셋 객체를 만들 수 있다. Dataset은 추상클래스로, Dataset을 상속받은 특수 메소드인 __len__과 __getitem__을 재정의(오버라이딩) 해야한다.\n",
    "\n",
    "- __init__() : imageDataset 클래스의 초기화 메소드\n",
    "    + df : Dataframe 객체로 train 혹은 valid를 df 파라미터에 전달\n",
    "    + img_dir : 이미지 데이터를 포함하는 경로\n",
    "    + transform : 이미지 변환기. 이미지 셋을 만들 때 기본적인 전처리를 하기 위해 변환기를 넘겨줌\n",
    "- __len__() : 데이터셋 크기를 반환\n",
    "- __getitem__() : 인덱스를 전달받아 인덱스에 해당하는 데이터를 반환"
   ]
  },
  {
   "cell_type": "code",
   "execution_count": 5,
   "metadata": {},
   "outputs": [],
   "source": [
    "import cv2\n",
    "from torch.utils.data import Dataset # 데이터 생성을 위한 클래스\n",
    "import numpy as np\n",
    "\n",
    "class ImageDataset(Dataset):\n",
    "    # 변수 초기화\n",
    "    def __init__(self, df, img_dir = \"./\", transform=None, is_test=False):\n",
    "        super().__init__() # 상속받은 Datatset의 __init__()메소드 호출\n",
    "        # 전달받은 인수 저장\n",
    "        self.df = df\n",
    "        self.img_dir = img_dir\n",
    "        self.transform = transform\n",
    "        self.is_test = is_test\n",
    "        \n",
    "    # 데이터셋 크기 반환 메소드\n",
    "    def __len__(self):\n",
    "        return len(self.df)\n",
    "    \n",
    "    # 인덱스에 해당하는 데이터 반환 메소드\n",
    "    def __getitem__(self, idx):\n",
    "        img_id = self.df.iloc[idx, 0] # image ID\n",
    "        img_path = self.img_dir + img_id + '.jpg' # 이미지 파일경로\n",
    "        image = cv2.imread(img_path)\n",
    "        image = cv2.cvtColor(image, cv2.COLOR_BGR2RGB)\n",
    "        if self.transform is not None:\n",
    "            image = self.transform(image = image)['image'] \n",
    "        # 테스트 데이터면 이미지 데이터만 반환, 그렇지 않으면 타겟값도 반환\n",
    "        if self.is_test:\n",
    "            return image\n",
    "        else:\n",
    "            label = np.argmax(self.df.iloc[idx, 1:5]) # 원핫 인코딩된 숫자들 중에 1만 뽑아내기 위한 값 : 라벨값\n",
    "            return image, label # 훈련/검증용일때"
   ]
  },
  {
   "cell_type": "markdown",
   "metadata": {},
   "source": [
    "### 데이터 증강용 이미지 변환기 정의(Train set)"
   ]
  },
  {
   "cell_type": "code",
   "execution_count": 6,
   "metadata": {},
   "outputs": [],
   "source": [
    "import albumentations as A\n",
    "from albumentations.pytorch import ToTensorV2\n",
    "\n",
    "transform_train = A.Compose([\n",
    "    A.Resize(450, 650), # 이미지 크기 조절\n",
    "    A.RandomBrightnessContrast(brightness_limit=0.2, # 밝기 대비 조절. brightness_limit : 밝기 조절값을 설정. 0.2로 지정했기에 -0.2~0.2의 범위를 가지며 전체범위는 -1~1까지이다.\n",
    "                               contrast_limit=0.2, p=0.3), # 1에 가까울수록 밝다. contrast_limit : 이미지 대비 조절값을 설정. 동작방식은 brightness_limit와 동일\n",
    "                                                           # p : 적용 확률 설정. 0.3을 설정했기에 30%의 확률로 이미지에 변환기를 적용한다.\n",
    "    A.VerticalFlip(p=0.2), # 상하 반전\n",
    "    A.HorizontalFlip(p=0.5), # 좌우 반전\n",
    "    A.ShiftScaleRotate( # 이동, 스케일링, 회전 변환\n",
    "        shift_limit=0.1, \n",
    "        scale_limit=0.2,\n",
    "        rotate_limit=30, p=0.3),\n",
    "    A.OneOf([A.Emboss(p = 1), # 양각화, 날카로움, 블러 효과\n",
    "            A.Sharpen(p = 1), \n",
    "            A.Blur(p = 1)], p = 0.3),\n",
    "    A.PiecewiseAffine(p = 0.3), # 어파인 변환\n",
    "    A.Normalize(), # 정규화 변환\n",
    "    ToTensorV2() # 텐서화\n",
    "])"
   ]
  },
  {
   "cell_type": "markdown",
   "metadata": {},
   "source": [
    "### 데이터 증강용 이미지 변환기 정의(Test)"
   ]
  },
  {
   "cell_type": "code",
   "execution_count": 7,
   "metadata": {},
   "outputs": [],
   "source": [
    "# 검증 및 테스트 데이터용 변환기\n",
    "transform_test = A.Compose([\n",
    "    A.Resize(450, 650), # 이미지 크기 조절 \n",
    "    A.Normalize(),      # 정규화 변환\n",
    "    ToTensorV2()        # 텐서로 변환(torch의 경우 텐서 객체만 취급하기 때문에 tensor 객체로 변환하는 작업이 필요하다.)\n",
    "])"
   ]
  },
  {
   "cell_type": "markdown",
   "metadata": {},
   "source": [
    "### 이미지 데이터셋 변환하기"
   ]
  },
  {
   "cell_type": "code",
   "execution_count": 8,
   "metadata": {},
   "outputs": [],
   "source": [
    "img_dir = './data/images/'\n",
    "\n",
    "train_set = ImageDataset(train, img_dir=img_dir, transform=transform_train) # train set 증강\n",
    "test_set = ImageDataset(test, img_dir=img_dir, transform=transform_test) # test set 증강"
   ]
  },
  {
   "cell_type": "markdown",
   "metadata": {},
   "source": [
    "### 훈련 시간 단축을 위한 멀티 프로세싱"
   ]
  },
  {
   "cell_type": "code",
   "execution_count": 9,
   "metadata": {},
   "outputs": [
    {
     "data": {
      "text/plain": [
       "<torch._C.Generator at 0x154ad00be70>"
      ]
     },
     "execution_count": 9,
     "metadata": {},
     "output_type": "execute_result"
    }
   ],
   "source": [
    "def seed_worker(worker_id): # 시드값 고정 함수\n",
    "    worker_seed = torch.initial_seed() % 2**32\n",
    "    np.random.seed(worker_seed)\n",
    "    random.seed(worker_seed)\n",
    "    \n",
    "g = torch.Generator()\n",
    "g.manual_seed(0)"
   ]
  },
  {
   "cell_type": "code",
   "execution_count": 10,
   "metadata": {},
   "outputs": [],
   "source": [
    "from torch.utils.data import DataLoader\n",
    "\n",
    "batch_size = 4\n",
    "#                         이미지 데이터셋, batch size : 한번에 물러오는 데이터 크기, shuffle : 데이터 섞는 여부\n",
    "loader_train = DataLoader(train_set, batch_size = batch_size, shuffle = True, worker_init_fn = seed_worker, generator = g, num_workers = 2)\n",
    "loader_valid = DataLoader(test_set, batch_size = batch_size, shuffle = False, worker_init_fn = seed_worker, generator = g, num_workers = 2)"
   ]
  },
  {
   "cell_type": "markdown",
   "metadata": {},
   "source": [
    "### 모델링\n",
    "사전에 훈련된 모델을 전이 학습시키는 방식을 사용하여 모델링한다.\n",
    "\n",
    "- 사전 훈련 모델 : 이미 한 분야에서 훈련을 마친 모델을 의미.\n",
    "- 전이 학습 : 사전 훈련 모델을 유사한 다른 영역에서 재훈련 시키는 기법.\n",
    "\n",
    "파이토치로 사전 훈련 모델을 이용하는 방법\n",
    "1. torchvision.models 모듈 이용\n",
    "    + 기본적인 사전 훈련 모델을 제공한다. 제공하는 모델이 많지 않다는 단점이 있다.\n",
    "2. pretrainedmodels 모듈 이용\n",
    "    + pretrainedmodels도 사전 훈련 모델을 제공한다."
   ]
  },
  {
   "cell_type": "code",
   "execution_count": 11,
   "metadata": {},
   "outputs": [
    {
     "name": "stdout",
     "output_type": "stream",
     "text": [
      "Loaded pretrained weights for efficientnet-b7\n"
     ]
    }
   ],
   "source": [
    "# EfficientNet 모델 생성\n",
    "from efficientnet_pytorch import EfficientNet\n",
    "# EfficientNet의 경우 b0~b7까지의 모델이 존재하는데, 숫자가 높을수록 성능이 좋다고 알려져 있다.\n",
    "model = EfficientNet.from_pretrained('efficientnet-b7', num_classes=4) # num_calsses : 최종 출력값 개수를 뜻한다. 각 문제에 맞게 타겟값의 수로 설정하면 되겠다.\n",
    "model = model.to(device)"
   ]
  },
  {
   "cell_type": "markdown",
   "metadata": {},
   "source": [
    "### 모델 훈련 및 성능 검증\n",
    "손실함수와 옵티마이저를 설정한다."
   ]
  },
  {
   "cell_type": "code",
   "execution_count": 12,
   "metadata": {},
   "outputs": [],
   "source": [
    "import torch.nn as nn # 신경망 모듈\n",
    "\n",
    "# loss function\n",
    "criterion = nn.CrossEntropyLoss()\n",
    "\n",
    "# optimizer : AdamW는 adam optimizer에 가중치 감쇠(가중치를 작게 조절)를 추가해서 일반화 성능이 우수하다.\n",
    "optimizer = torch.optim.AdamW(model.parameters(), lr = 0.00006, weight_decay=0.0001)"
   ]
  },
  {
   "cell_type": "code",
   "execution_count": 13,
   "metadata": {},
   "outputs": [
    {
     "data": {
      "application/vnd.jupyter.widget-view+json": {
       "model_id": "d63777e49e7b4cd7a1e150e4896779de",
       "version_major": 2,
       "version_minor": 0
      },
      "text/plain": [
       "  0%|          | 0/410 [00:00<?, ?it/s]"
      ]
     },
     "metadata": {},
     "output_type": "display_data"
    }
   ],
   "source": [
    "# 모델 훈련 및 성능 검증\n",
    "from sklearn.metrics import roc_auc_score # roc, auc 점수 계산 함수\n",
    "from tqdm.notebook import tqdm\n",
    "\n",
    "epochs = 5 # 훈련 횟수\n",
    "\n",
    "for epoch in range(epochs):\n",
    "    model.train() # 모델을 훈련 상태로 설정\n",
    "    epoch_train_loss = 0 # 각 에포크 별 loss값 초기화(훈련 데이터용)\n",
    "    \n",
    "    # 훈련 횟수 만큼 반복\n",
    "    for images, labels in tqdm(loader_train):\n",
    "        images = images.to(device)\n",
    "        labels = labels.to(device)\n",
    "        \n",
    "        # 옵티마이저 내의 기울기 값 초기화\n",
    "        optimizer.zero_grad()\n",
    "        \n",
    "        # 순전파 : 이미지 데이터를 신경망 모델의 입력값으로 사용해 출력값 계산\n",
    "        outputs = model(images)\n",
    "        \n",
    "        # 손실함수를 활용해 outputs와 labels의 loss값 계산\n",
    "        loss = criterion(outputs, labels)\n",
    "        \n",
    "        # 현재 배치에서의 손실 추가\n",
    "        epoch_train_loss += loss.item()\n",
    "        loss.backward() # 역전파 수행\n",
    "        optimizer.step() # 가중치 갱신\n",
    "    \n",
    "    # 훈련 데이터 손실값 출력\n",
    "    print(f\"epoch [{epoch+1}/{epochs}] - 훈련 데이터 손실값 : {epoch_train_loss/len(loader_train):.4f}\")\n",
    "    \n",
    "    # 검증 실시\n",
    "    model.eval()          # 모델을 평가 상태로 설정\n",
    "    epoch_valid_loss = 0  # 에폭별 손실값 초기화(검증 데이터용)\n",
    "    preds_list = []       # 예측 확률값 저장용 리스트 초기화\n",
    "    true_onehot_list = [] # 실제 타겟값 저장용 리스트 초기화\n",
    "    \n",
    "    with torch.no_grad(): # 기울기 계산 비활성화\n",
    "        # 미니 배치 단위로 검증\n",
    "        for images, labels in loader_valid:\n",
    "            images = images.to(device)\n",
    "            labels = labels.to(device)\n",
    "            \n",
    "            outputs = model(images)\n",
    "            loss = criterion(outputs, labels)\n",
    "            epoch_valid_loss += loss.item()\n",
    "            \n",
    "            preds = torch.softmax(outputs.cpu(), dim=1).numpy() # 예측 확률값\n",
    "            # 실제값 (원핫 인코딩 방식)\n",
    "            true_onehot = torch.eye(4)[labels].cpu().numpy()\n",
    "            # 예측확률값과 실제값 저장\n",
    "            preds_list.extend(preds)\n",
    "            true_onehot_list.extend(true_onehot)\n",
    "    print(f\"epoch [{epoch+1}/{epochs}] - 검증 데이터 손실값 : {epoch_valid_loss/len(loader_valid):.4f} / 검증 데이터 ROC AUC : {roc_auc_score(true_onehot_list, preds_list):.4f}\")"
   ]
  },
  {
   "cell_type": "code",
   "execution_count": null,
   "metadata": {},
   "outputs": [],
   "source": [
    "()"
   ]
  }
 ],
 "metadata": {
  "kernelspec": {
   "display_name": "base",
   "language": "python",
   "name": "python3"
  },
  "language_info": {
   "codemirror_mode": {
    "name": "ipython",
    "version": 3
   },
   "file_extension": ".py",
   "mimetype": "text/x-python",
   "name": "python",
   "nbconvert_exporter": "python",
   "pygments_lexer": "ipython3",
   "version": "3.9.12"
  },
  "orig_nbformat": 4
 },
 "nbformat": 4,
 "nbformat_minor": 2
}
