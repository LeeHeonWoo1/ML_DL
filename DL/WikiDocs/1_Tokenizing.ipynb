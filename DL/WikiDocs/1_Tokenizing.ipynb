{
 "cells": [
  {
   "cell_type": "markdown",
   "metadata": {},
   "source": [
    "### 토큰화\n",
    "자연어 처리에서 크롤링 등으로 얻어낸 코퍼스 데이터가 필요에 맞게 전처리 되지 않은 상태라면, 해당 데이터를 사용하고자하는 용도에 맞게 토큰화&정제&정규화 하는 일을 하게 된다. 그 중에서 토큰화에 대해서 먼저 살펴본다\n",
    "\n",
    "주어진 코퍼스에서 토큰이라 불리는 단위로 나누는 작업을 토큰화라고 한다. 토큰의 단위가 상황에 따라 다르지만, 보통 의미있는 단위로 토큰을 정의한다. 여기서는 토큰화에 대해 발생할 수 있는 여러가지 상황에 대해서 언급하며 토큰화에 대한 개념을 이해한다."
   ]
  },
  {
   "cell_type": "code",
   "execution_count": 1,
   "metadata": {},
   "outputs": [
    {
     "name": "stdout",
     "output_type": "stream",
     "text": [
      "단어 토큰화1 : ['Do', \"n't\", 'be', 'fooled', 'by', 'the', 'dark', 'sounding', 'name', ',', 'Mr.', 'Jone', \"'s\", 'Orphanage', 'is', 'as', 'cheery', 'goes', 'for', 'a', 'pastry', 'shop', '.']\n"
     ]
    }
   ],
   "source": [
    "# 보통적인 경우에 띄어쓰기 단위로 토큰화해도 되지만, 그러한 경우는 잘 없다. \n",
    "# '는 어떻게 처리할까?\n",
    "from nltk.tokenize import word_tokenize, WordPunctTokenizer\n",
    "from keras.preprocessing.text import text_to_word_sequence\n",
    "\n",
    "corpus = \"Don't be fooled by the dark sounding name, \\\n",
    "Mr. Jone's Orphanage is as cheery goes for a pastry shop.\"\n",
    "print(f\"단어 토큰화1 : {word_tokenize(corpus)}\")"
   ]
  },
  {
   "cell_type": "markdown",
   "metadata": {},
   "source": [
    "word_tokenize는 Don't를 Do와 n't로 분리하였으며, 반면 Jone's는 Jone과 's로 분리한 것을 확인할 수 있다. \n",
    "\n",
    "그렇다면 WordPunctTokenizer는 어떻게 처리할까?"
   ]
  },
  {
   "cell_type": "code",
   "execution_count": 2,
   "metadata": {},
   "outputs": [
    {
     "name": "stdout",
     "output_type": "stream",
     "text": [
      "단어 토큰화2 : ['Don', \"'\", 't', 'be', 'fooled', 'by', 'the', 'dark', 'sounding', 'name', ',', 'Mr', '.', 'Jone', \"'\", 's', 'Orphanage', 'is', 'as', 'cheery', 'goes', 'for', 'a', 'pastry', 'shop', '.']\n"
     ]
    }
   ],
   "source": [
    "print(f\"단어 토큰화2 : {WordPunctTokenizer().tokenize(corpus)}\")"
   ]
  },
  {
   "cell_type": "markdown",
   "metadata": {},
   "source": [
    "WordPunctTokenizer는 구두점을 별도로 분류하는 특징을 갖고 있기 때문에, 앞서 확인했던 word_tokenizer와는 달리 Don't를 Don과 '과 t로 분리했으며, 이와 마찬가지로 Jone's도 같은 방식으로 분류했다.\n",
    "\n",
    "Keras또한 토큰화 도구로서 text_to_word_sequence를 지원한다."
   ]
  },
  {
   "cell_type": "code",
   "execution_count": 3,
   "metadata": {},
   "outputs": [
    {
     "name": "stdout",
     "output_type": "stream",
     "text": [
      "단어 토큰화3 : [\"don't\", 'be', 'fooled', 'by', 'the', 'dark', 'sounding', 'name', 'mr', \"jone's\", 'orphanage', 'is', 'as', 'cheery', 'goes', 'for', 'a', 'pastry', 'shop']\n"
     ]
    }
   ],
   "source": [
    "print(f\"단어 토큰화3 : {text_to_word_sequence(corpus)}\")"
   ]
  },
  {
   "cell_type": "markdown",
   "metadata": {},
   "source": [
    "keras의 text_to_word_sequence는 기본적으로 모든 알파벳을 소문자로 바꾸면서 마침표나 컴마, 느낌표 등의 구두점을 제거한다. 하지만 don't나 jone's와 같은 경우 어퍼스트로피는 보존하는 것을 확인할 수 있다."
   ]
  },
  {
   "cell_type": "markdown",
   "metadata": {},
   "source": [
    "### 토큰화에서 고려해야 할 사항\n",
    "토큰화 작업을 단순하게 코퍼스에서 구두점을 제외하고 공백 기준으로 잘라내는 작업이라고 간주하긴 이르다. 이러한 일은 보다 더 섬세한 작업이 필요하다. 그에 대한 근거로 아래를 살펴본다.\n",
    "\n",
    "- 구두점이나 특수문자를 단순 제외해서는 안된다. <br>\n",
    ": 구두점 조차도 하나의 토큰으로 분류하기도 한다. 마침표로 사용한다고 하면 문장의 끝을 알 수 있겠지만, 단어 자체에 구두점이 포함되어 있는 경우(m.p.h or Ph.D 등)도 존재하기에 구두점이나 특수문자를 단순히 제외해서는 안된다.\n",
    "\n",
    "- 줄임말과 단어 내에 띄어쓰기가 있는 경우. <br>\n",
    ": 영어권에는 `접어`라는 개념이 있다. we're의 경우 we are의 줄임말이며, 여기서 re를 접어라고 한다. 또한 New York이나 rock 'n' roll이라는 단어의 경우 띄어쓰기를 기준으로 단순히 토큰화를 해버리면 의미가 사라질 수 있기에 한 단어 자체를 인식하는 기능도 있어야 한다.\n",
    "\n",
    "### 표준 토큰화(Penn Treebank Tokenization)\n",
    "아래와 같은 두 가지 규칙을 따른다.\n",
    "- 하이픈으로 구성되는 단어는 하나로 유지한다.\n",
    "- doesn't와 같이 어퍼스트로피로 접어가 함께하는 단어는 분리해준다.\n",
    "\n",
    "이 표준 토큰화 도구를 사용해보자.\n"
   ]
  },
  {
   "cell_type": "code",
   "execution_count": 4,
   "metadata": {},
   "outputs": [
    {
     "name": "stdout",
     "output_type": "stream",
     "text": [
      "트리뱅크 토크나이저 : ['Strating', 'a', 'home-based', 'restaurant', 'may', 'be', 'an', 'ideal.', 'It', 'does', \"n't\", 'have', 'a', 'food', 'chain', 'or', 'restaurant', 'of', 'their', 'own', '.']\n"
     ]
    }
   ],
   "source": [
    "from nltk.tokenize import TreebankWordTokenizer\n",
    "\n",
    "tokenizer = TreebankWordTokenizer()\n",
    "corpus = \"Strating a home-based restaurant may be an ideal. It doesn't have a food chain or restaurant of their own.\"\n",
    "print(f\"트리뱅크 토크나이저 : {tokenizer.tokenize(corpus)}\")"
   ]
  },
  {
   "cell_type": "markdown",
   "metadata": {},
   "source": [
    "### 문장 토큰화(Sentence Tokenization)\n",
    "NLTK에서는 영어 문장의 토큰화를 수행하는 sent_tokenize를 지원한다. NLTK를 이용해서 문장 토큰화를 실습한다."
   ]
  },
  {
   "cell_type": "code",
   "execution_count": 5,
   "metadata": {},
   "outputs": [
    {
     "name": "stdout",
     "output_type": "stream",
     "text": [
      "문장 토큰화1 : ['His barber kept his word.', 'But keeping such a huge secret to himself was driving him crazy.', 'Finally, the barber went up a mountain and almost to the edge of a cliff.', 'He dug a hole in the midst of some reeds.', 'He looked about, to make sure no one was near.']\n"
     ]
    }
   ],
   "source": [
    "from nltk.tokenize import sent_tokenize\n",
    "\n",
    "corpus = \"His barber kept his word. But keeping such a huge secret to himself was driving him crazy. \\\n",
    "Finally, the barber went up a mountain and almost to the edge of a cliff. \\\n",
    "He dug a hole in the midst of some reeds. He looked about, to make sure no one was near.\"\n",
    "\n",
    "print(f\"문장 토큰화1 : {sent_tokenize(corpus)}\")"
   ]
  },
  {
   "cell_type": "markdown",
   "metadata": {},
   "source": [
    "위에서 진행한 것은 corpus에 저장된 여러 개의 문장들로부터 문장을 구분하는 코드이다. 출력 결과를 보면 성공적으로 모든 문장을 구분해내었음을 볼 수 있다. 이번에는 문장 중간에 마침표가 다수 등장하는 경우에 대해서도 실시해본다."
   ]
  },
  {
   "cell_type": "code",
   "execution_count": 6,
   "metadata": {},
   "outputs": [
    {
     "name": "stdout",
     "output_type": "stream",
     "text": [
      "문장 토큰화2 : ['I am actively looking for Ph.D. students.', 'And you are a Ph.D student.']\n"
     ]
    }
   ],
   "source": [
    "text = \"I am actively looking for Ph.D. students. And you are a Ph.D student.\"\n",
    "print(f\"문장 토큰화2 : {sent_tokenize(text)}\")"
   ]
  },
  {
   "cell_type": "markdown",
   "metadata": {},
   "source": [
    "NLTK의 경우 단순히 마침표를 구분자로 하여 문장을 구분하지 않기에 Ph.D.를 문장 내의 단어로 인식하여 성공적으로 인식하는 모습을 확인할 수 있다. 한국어에 대한 문장 토큰화 도구도 존재하는데, `KSS(Korean Sentence Splitter)`를 사용한다."
   ]
  },
  {
   "cell_type": "code",
   "execution_count": 7,
   "metadata": {},
   "outputs": [
    {
     "name": "stdout",
     "output_type": "stream",
     "text": [
      "Requirement already satisfied: kss in c:\\users\\owner\\anaconda3\\lib\\site-packages (4.5.4)\n",
      "Requirement already satisfied: emoji==1.2.0 in c:\\users\\owner\\anaconda3\\lib\\site-packages (from kss) (1.2.0)\n",
      "Requirement already satisfied: regex in c:\\users\\owner\\anaconda3\\lib\\site-packages (from kss) (2021.11.10)\n",
      "Requirement already satisfied: pecab in c:\\users\\owner\\anaconda3\\lib\\site-packages (from kss) (1.0.8)\n",
      "Requirement already satisfied: networkx in c:\\users\\owner\\anaconda3\\lib\\site-packages (from kss) (3.0)\n",
      "Requirement already satisfied: numpy in c:\\users\\owner\\anaconda3\\lib\\site-packages (from pecab->kss) (1.23.5)\n",
      "Requirement already satisfied: pyarrow in c:\\users\\owner\\anaconda3\\lib\\site-packages (from pecab->kss) (13.0.0)\n",
      "Requirement already satisfied: pytest in c:\\users\\owner\\anaconda3\\lib\\site-packages (from pecab->kss) (7.4.2)\n",
      "Requirement already satisfied: iniconfig in c:\\users\\owner\\anaconda3\\lib\\site-packages (from pytest->pecab->kss) (2.0.0)\n",
      "Requirement already satisfied: packaging in c:\\users\\owner\\anaconda3\\lib\\site-packages (from pytest->pecab->kss) (22.0)\n",
      "Requirement already satisfied: pluggy<2.0,>=0.12 in c:\\users\\owner\\anaconda3\\lib\\site-packages (from pytest->pecab->kss) (1.0.0)\n",
      "Requirement already satisfied: exceptiongroup>=1.0.0rc8 in c:\\users\\owner\\anaconda3\\lib\\site-packages (from pytest->pecab->kss) (1.1.0)\n",
      "Requirement already satisfied: tomli>=1.0.0 in c:\\users\\owner\\anaconda3\\lib\\site-packages (from pytest->pecab->kss) (2.0.1)\n",
      "Requirement already satisfied: colorama in c:\\users\\owner\\anaconda3\\lib\\site-packages (from pytest->pecab->kss) (0.4.6)\n"
     ]
    },
    {
     "name": "stderr",
     "output_type": "stream",
     "text": [
      "DEPRECATION: mecab-python 0.996-ko-0.9.2-msvc has a non-standard version number. pip 23.3 will enforce this behaviour change. A possible replacement is to upgrade to a newer version of mecab-python or contact the author to suggest that they release a version with a conforming version number. Discussion can be found at https://github.com/pypa/pip/issues/12063\n"
     ]
    }
   ],
   "source": [
    "!pip install kss"
   ]
  },
  {
   "cell_type": "code",
   "execution_count": 8,
   "metadata": {},
   "outputs": [
    {
     "name": "stderr",
     "output_type": "stream",
     "text": [
      "[Kss]: Oh! You have mecab in your environment. Kss will take this as a backend! :D\n",
      "\n"
     ]
    },
    {
     "name": "stdout",
     "output_type": "stream",
     "text": [
      "한국어 문장 토큰화 : ['딥 러닝 자연어 처리가 재미있기는 합니다.', '그런데 문제는 영어보다 한국어로 할 때 너무 어렵습니다.', '이제 해보면 알 수 있을걸요?']\n"
     ]
    }
   ],
   "source": [
    "import kss\n",
    "\n",
    "text = \"딥 러닝 자연어 처리가 재미있기는 합니다. 그런데 문제는 영어보다 한국어로 할 때 너무 어렵습니다. 이제 해보면 알 수 있을걸요?\"\n",
    "print(f\"한국어 문장 토큰화 : {kss.split_sentences(text)}\")"
   ]
  },
  {
   "cell_type": "markdown",
   "metadata": {},
   "source": [
    "### 한국어에서의 토큰화의 어려움\n",
    "영어는 New York과 같은 합성어나 he's와 같이 줄임말에 대한 예외처리만 한다면, 띄어쓰기를 기준으로 하는 띄어쓰기 토큰화를 수행해도 단어 토큰화가 잘 작동합니다. 거의 대부분의 경우에서 단어 단위로 띄어쓰기가 이뤄지기 때문에 띄어쓰기 토큰화와 단어 토큰화가 거의 같기 때문입니다.\n",
    "\n",
    "하지만 한국어는 영어와는 달리 띄어쓰기만으로는 토큰화를 하기에 부족합니다. 한국어의 경우에는 띄어쓰기 단위가 같은 단위를 '어절'이라고 하는데 어절 토큰화는 한국어 NLP에서는 지양되고 있다. 어절 토큰화와 단어 토큰화는 같지 않기 때문인데, 그 근본적인 이유는 한궁어가 영어와는 다른 형태를 가지는 언어인 교착어라는 점에서 기인한다. 교착어란, 조사, 어미 등을 붙여서 말을 만드는 언어를 말한다.\n",
    "\n",
    "☝️ 교착어의 특성\n",
    "\n",
    "예를 들어보자면, '그'라는 주어나 목적어가 들어간 문장의 경우, 그라는 단어 하나에도 '그가', '그에게', '그를', '그와', '그는'과 같이 다양한 조사가 '그'라는 글자 뒤에 띄어쓰기 없이 바로 부텍된다. 자연어 처리를 하다보면 같은 단어임에도 서로 다른 조사가 붙어서 다른 단어로 인식이 되면 자연어 처리가 힘들고 번거로워지는 경우가 많다. 대부분의 한국어 NLP에서 조사는 분리해줄 필요가 있다.\n",
    "\n",
    "띄어쓰기 단위가 영어처럼 독립적인 단어라면 띄어쓰기 단위로 토큰화를 하면 되겠지만 한국어는 어절이 독립적인 단어로 구성되는 것이 아니라 조사 등의 무언가가 붙어있는 경우가 많아서 이를 전부 분리해줘야 한다는 의미이다.\n",
    "\n",
    "한국어 토큰화에서는 `형태소`라는 개념을 반드시 이해해야 한다. 이는 뜻을 가진 가장 작은 말의 단위를 말한다. 이 형태소에는 두 가지 형태소가 있는데 자립 형태소와 의존 형태소이다.\n",
    "- 자립 형태소 : 접사, 어미, 조사와 상관없이 자립하여 사용할 수 있는 형태소. 그 자체로 단어가 된다. 체언(명사, 대명사, 수사), 수식언(관형사, 부사), 감탄사 등이 있다.\n",
    "- 의존 형태소 : 다른 형태소와 결합하여 사용되는 형태소. 접사, 어미, 조사, 어간을 말한다.\n",
    "\n",
    "예를 들어 다음과 같은 문장이 있다고 하자.\n",
    "- 문장 : 에디가 책을 읽었다.\n",
    "\n",
    "이 문장을 띄어쓰기 단위로 분해하면 다음과 같다.\n",
    "- ['에디가', '책을', '읽었다.']\n",
    "\n",
    "하지만 이를 형태소 단위로 분해하면 다음과 같다.\n",
    "- 자립 형태소 : 에디, 책\n",
    "- 의존 형태소 : -가, -을, 읽-, -었, -다\n",
    "\n",
    "'에디'라는 사람 이름과 '책'이라는 명사를 얻어낼 수 있다. 이를 통해 유추할 수 있는 것은 한국어에서 영어에서의 단어 토큰화와 유사한 형태를 얻으러면 어절 토큰화가 아니라 형태소 토큰화를 수행해야 한다는 것이다.\n",
    "\n",
    "✌️ 한국어는 띄어쓰기가 영어보다 잘 지켜지지 않는다.\n",
    "\n",
    "영어의 경우 띄어쓰기를 하지 않으면 손쉽게 알아보기 어려운 문장들이 생긴다. 이는 한국어(모아쓰기 방식)와 영어(풀어쓰기 방식)라는 특성의 차이에 있다.\n",
    "\n",
    "### 품사 태깅\n",
    "단어는 표기는 같지만 품사에 따라서 단어의 의미가 달라지기도 한다. 단어의 의미를 제대로 파악하기 위해서는 해당 단어가 어떤 품사로 쓰였는지 보는 것이 주요 지표가 될 수 있다. 그에 따라 단어 토큰화 과정에서 각 단어가 어떤 품사로 쓰였는지를 구분해놓기도 하는데, 이 작업을 품사 태깅이라고 한다."
   ]
  },
  {
   "cell_type": "code",
   "execution_count": 9,
   "metadata": {},
   "outputs": [
    {
     "name": "stdout",
     "output_type": "stream",
     "text": [
      "단어 토큰화 : ['I', 'am', 'actively', 'looking', 'for', 'Ph.D.', 'students', '.', 'and', 'you', 'are', 'a', 'Ph.D.', 'student', '.']\n",
      "품사 태깅 : [('I', 'PRP'), ('am', 'VBP'), ('actively', 'RB'), ('looking', 'VBG'), ('for', 'IN'), ('Ph.D.', 'NNP'), ('students', 'NNS'), ('.', '.'), ('and', 'CC'), ('you', 'PRP'), ('are', 'VBP'), ('a', 'DT'), ('Ph.D.', 'NNP'), ('student', 'NN'), ('.', '.')]\n"
     ]
    }
   ],
   "source": [
    "from nltk.tokenize import word_tokenize\n",
    "from nltk.tag import pos_tag\n",
    "\n",
    "text = \"I am actively looking for Ph.D. students. and you are a Ph.D. student.\"\n",
    "tokenized_sentence = word_tokenize(text)\n",
    "\n",
    "print(f'단어 토큰화 : {tokenized_sentence}')\n",
    "print(f'품사 태깅 : {pos_tag(tokenized_sentence)}')"
   ]
  },
  {
   "cell_type": "markdown",
   "metadata": {},
   "source": [
    "|태깅|의미|\n",
    "|---|---|\n",
    "|PRP|인칭 대명사|\n",
    "|VBP|동사|\n",
    "|RB|부사|\n",
    "|VBG|현재 부사|\n",
    "|IN|전치사|\n",
    "|NNP|고유 명사|\n",
    "|NNS|복수형 명사|\n",
    "|CC|접속사|\n",
    "|DT|관사|\n",
    "\n",
    "### 한국어 품사 태깅\n",
    "KoNLPy를 활용해서 한국어 품사 태깅을 진행한다. 사용할 수 있는 형태소 분석기로는 Okt, Mecab, Komoran, 한나눔, Kkma가 있다."
   ]
  },
  {
   "cell_type": "code",
   "execution_count": 10,
   "metadata": {},
   "outputs": [
    {
     "name": "stdout",
     "output_type": "stream",
     "text": [
      "OKT 형태소 분석 : ['열심히', '일', '한', '당신', ',', '이번', '엔', '휴가', '를', '떠나는', '것', '이', '어떠한가']\n",
      "OKT 품사 태깅 : [('열심히', 'Adverb'), ('일', 'Noun'), ('한', 'Josa'), ('당신', 'Noun'), (',', 'Punctuation'), ('이번', 'Noun'), ('엔', 'Josa'), ('휴가', 'Noun'), ('를', 'Josa'), ('떠나는', 'Verb'), ('것', 'Noun'), ('이', 'Josa'), ('어떠한가', 'Adjective')]\n",
      "OKT 명사 추출 : ['일', '당신', '이번', '휴가', '것']\n"
     ]
    }
   ],
   "source": [
    "from konlpy.tag import Okt, Kkma\n",
    "\n",
    "okt = Okt()\n",
    "kkma = Kkma()\n",
    "\n",
    "text = \"열심히 일한 당신, 이번엔 휴가를 떠나는 것이 어떠한가\"\n",
    "\n",
    "print(f\"OKT 형태소 분석 : {okt.morphs(text)}\")  # 형태소 추출\n",
    "print(f\"OKT 품사 태깅 : {okt.pos(text)}\")  # 품사 태깅\n",
    "print(f\"OKT 명사 추출 : {okt.nouns(text)}\")  # 명사 추출"
   ]
  },
  {
   "cell_type": "markdown",
   "metadata": {},
   "source": [
    "위 메소드들은 기본적으로 konlpy에서 모두 제공하는 형태의 메소드이다. 이번엔 꼬꼬마로 진행한다."
   ]
  },
  {
   "cell_type": "code",
   "execution_count": 11,
   "metadata": {},
   "outputs": [
    {
     "name": "stdout",
     "output_type": "stream",
     "text": [
      "Kkma 형태소 분석 : ['열심히', '일한', '당신', ',', '이번', '에', '는', '휴가', '를', '떠나', '는', '것', '이', '어떠하', 'ㄴ가']\n",
      "Kkma 품사 태깅 : [('열심히', 'MAG'), ('일한', 'NNG'), ('당신', 'NP'), (',', 'SP'), ('이번', 'NNG'), ('에', 'JKM'), ('는', 'JX'), ('휴가', 'NNG'), ('를', 'JKO'), ('떠나', 'VV'), ('는', 'ETD'), ('것', 'NNB'), ('이', 'JKS'), ('어떠하', 'VA'), ('ㄴ가', 'EFQ')]\n",
      "Kkma 명사 추출 : ['일한', '당신', '이번', '휴가']\n"
     ]
    }
   ],
   "source": [
    "print(f\"Kkma 형태소 분석 : {kkma.morphs(text)}\")  # 형태소 추출\n",
    "print(f\"Kkma 품사 태깅 : {kkma.pos(text)}\")  # 품사 태깅\n",
    "print(f\"Kkma 명사 추출 : {kkma.nouns(text)}\")  # 명사 추출"
   ]
  },
  {
   "cell_type": "markdown",
   "metadata": {},
   "source": [
    "앞에서 사용한 okt와는 약간 다른 결과를 볼 수 있다. 이처럼 한국어 형태소 분석기들은 각자의 특색이 있기 때문에 특정 상황에 잘 맞춰서 사용해야한다. 예를 들어서 속도를 중요시 한다고 하면 Mecab을 고려할 수 있다."
   ]
  }
 ],
 "metadata": {
  "kernelspec": {
   "display_name": "base",
   "language": "python",
   "name": "python3"
  },
  "language_info": {
   "codemirror_mode": {
    "name": "ipython",
    "version": 3
   },
   "file_extension": ".py",
   "mimetype": "text/x-python",
   "name": "python",
   "nbconvert_exporter": "python",
   "pygments_lexer": "ipython3",
   "version": "3.9.12"
  },
  "orig_nbformat": 4
 },
 "nbformat": 4,
 "nbformat_minor": 2
}
