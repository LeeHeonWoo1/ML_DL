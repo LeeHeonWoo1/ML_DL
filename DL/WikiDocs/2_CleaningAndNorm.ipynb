{
 "cells": [
  {
   "cell_type": "markdown",
   "metadata": {},
   "source": [
    "### 정제와 정규화\n",
    "앞서 본 작업은 용도에 맞게 토큰을 분류하는 작업이었다. 일반적으로 토큰화를 진행하기 전에 정제와 정규화를 먼저 진행하곤 한다.\n",
    "\n",
    "- 정제(cleaning) : 갖고 있는 코퍼스로부터 노이즈 데이터를 제거한다.\n",
    "- 정규화(normalization) : 표현 방법이 다른 단어들을 통합시켜서 같은 단어로 만들어준다.\n",
    "\n",
    "### 고려해야할 점\n",
    "1. USA와 US는 같은 의미를 가지므로 하나의 단어로 정규화해볼 수 있다. 마찬가지로 uh-huh와 uhhuh는 형태는 다르지만 여전히 같은 의미를 가진다.\n",
    "2. 대 소문자 통합은 주의해야한다. 사용자가 페라리라는 차를 검색하기 위해서는 엄밀히 따지면 `a Ferrari Car`라고 입력해야 하지만 ferrari만 검색해도 원하는 결과를 얻을 수 있을 것이다. 하지만 너무 남용하게 되면 생길 수 있는 문제는 미국을 뜻하는 US와 우리를 뜻하는 us는 구분되어야 한다. \n",
    "3. 불필요한 단어는 제거한다. 예를 들면 불용어, 등장 빈도가 작은 단어, 길이가 짧은 단어 등을 제거한다. <br>\n",
    "    **3-1**. **등장 빈도가 작은 단어**의 경우 분류에 거의 도움이 되지 않기 때문에 제거 대상이다. <br>\n",
    "    **3-2**. 영어권 언어에서는 **길이가 짧은 단어**를 삭제하는 것만으로도 어느정도 자연어 처리에서 크게 의미가 없는 단어를 제거하는 효과를 볼 수 있다고 한다. 영어 단어의 평균적인 길이는 6~7글자 이고, 한국어 단어의 평균적인 길이는 2~3글자이다. 영어 단어의 길이가 한국어 단어의 길이보다는 길다는 것을 알 수 있는데, 이는 각 한글자가 가진 의미의 크기가 다르다는 점에서 기인한다. 용(dragon)을 표현하기 위해서 한국어로는 한 글자면 충분하지만, 영어 단어로는 d, r, a, g, o, n 이라는 6글자가 필요하다. 이러한 특성으로 인해 영어권에서는 길이가 2~3 이하인 단어를 제거하는 것만으로도 크게 의미를 갖지 못하는 단어를 줄이는 효과를 가지고 있다.\n",
    "    "
   ]
  },
  {
   "cell_type": "code",
   "execution_count": 2,
   "metadata": {},
   "outputs": [
    {
     "name": "stdout",
     "output_type": "stream",
     "text": [
      " was wondering anyone out there could enlighten this car.\n"
     ]
    }
   ],
   "source": [
    "import re\n",
    "\n",
    "text = \"I was wondering if anyone out there could enlighten me on this car.\"\n",
    "\n",
    "short_words = re.compile(r'\\W*\\b\\w{1,2}\\b')\n",
    "print(short_words.sub('', text))"
   ]
  },
  {
   "cell_type": "markdown",
   "metadata": {},
   "source": [
    "대부분 갖고 있는 텍스트 데이터에서 길이가 1인 단어를 제거하는 코드를 수행하면 대부분의 자연어 처리에서 의미를 갖지 못하는 단어인 관사 'a'와 주로 쓰이는 'I'가 제거된다. 마찬가지로 길이가 2인 단어를 제거한다고 하면 it, at, to, on, in, by 등과 같은 대부분 불용어에 해당되는 단어들이 제거된다. 필요에 따라서는 길이가 3인 단어도 제거할 수 있지만, 이 경우 fox, dog, car등 길이가 3인 명사들이 제거되기 시작하므로 사용하고자 하는 데이터에서 해당 방법을 사용해도 되는지에 대한 고민이 필요하다.\n",
    "\n",
    "### 정규식\n",
    "보통 HTML문서로부터 코퍼스를 가져온다면 여기저기 태그가 덕지덕지 붙어있는 모습을 확인할 수 있을것이다. 혹은 뉴스 기사를 크롤링한다면, 기사마다 게재 시간이 적혀져 있을 수 있다. 정규 표현식은 이러한 코퍼스 내에 계속해서 등장하는 글자들을 규칙에 기반하여 한 번에 제거하는 방식으로서 매우 유용하다."
   ]
  }
 ],
 "metadata": {
  "kernelspec": {
   "display_name": "base",
   "language": "python",
   "name": "python3"
  },
  "language_info": {
   "codemirror_mode": {
    "name": "ipython",
    "version": 3
   },
   "file_extension": ".py",
   "mimetype": "text/x-python",
   "name": "python",
   "nbconvert_exporter": "python",
   "pygments_lexer": "ipython3",
   "version": "3.9.12"
  },
  "orig_nbformat": 4
 },
 "nbformat": 4,
 "nbformat_minor": 2
}
