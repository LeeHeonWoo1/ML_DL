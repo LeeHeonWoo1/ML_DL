{
 "cells": [
  {
   "cell_type": "markdown",
   "metadata": {},
   "source": [
    "### 학습 관련 기술들, 그 첫 번째\n",
    "신경망 학습의 목적은 손실 함수의 값을 가능한 한 낮추는 매개변수를 찾는 것이었다. 이는 곧 매개변수의 최적값을 찾는 문제이며, 이러한 문제를 푸는 것을 `최적화`라고 합니다. 다른 파일들에서 사용했던 확률적 경사 하강법에 대한 얘기를 할 것인데, 매개변수 공간을 무작정 찾는 것보다 똑똑한 방법입니다. "
   ]
  },
  {
   "cell_type": "code",
   "execution_count": null,
   "metadata": {},
   "outputs": [],
   "source": [
    "# SGD 구현\n",
    "class SGD:\n",
    "    def __init__(self, lr=0.01):\n",
    "        self.lr = lr\n",
    "        \n",
    "    def update(self, params, grads):\n",
    "        for key in params.keys():\n",
    "            params[key] -= self.lr * grads[key]"
   ]
  },
  {
   "cell_type": "markdown",
   "metadata": {},
   "source": [
    "### SGD의 단점\n",
    "SGD는 비등방성 함수(방향에 따라 성질, 즉 이 때에는 기울기가 달라지는 함수)에서는 탐색 경로가 비효율적이라는 것입니다. 이럴 때는 SGD같이 무작정 기울어진 방향으로 진행하는 단순한 방식보다 더 영리한 묘안이 간절해집니다. \n",
    "\n",
    "이러한 단점들을 극복하기 위해서 모멘텀, AdaGrad, Adam이라는 세 방법을 확인합니다.\n",
    "\n",
    "### 모멘텀\n",
    "모멘텀은 운동량을 뜻하는 단어로, 물리와 관계가 있습니다. 수식으로는 아래와 같이 씁니다.\n",
    "\n",
    "> v ⬅️ ɑv - ŋ * ∂L/∂W <br> W ⬅️ W + v\n",
    "\n",
    "SGD처럼 여기에서도 W는 갱신할 가중치 매개변수, ∂L/∂W은 W에 대한 손실함수의 기울기, ŋ는 학습률입니다. v라는 새로운 변수가 나오는데, 이는 물리에서 말하는 속도에 해당합니다. v가 포함된 식은 기울기 방향으로 힘을 받아 물체가 가속된다는 물리 법칙을 나타냅니다.\n",
    "\n",
    "또한, ɑv항은 물체가 아무런 힘을 받지 않을 때 서서히 하강시키는 역할을 합니다. "
   ]
  },
  {
   "cell_type": "code",
   "execution_count": 2,
   "metadata": {},
   "outputs": [
    {
     "name": "stdout",
     "output_type": "stream",
     "text": [
      "[[[[0. 0. 0. 0.]\n",
      "   [0. 0. 0. 0.]\n",
      "   [0. 0. 0. 0.]]\n",
      "\n",
      "  [[0. 0. 0. 0.]\n",
      "   [0. 0. 0. 0.]\n",
      "   [0. 0. 0. 0.]]]]\n",
      "[0 0 0 0]\n"
     ]
    }
   ],
   "source": [
    "# 모멘텀 구현\n",
    "import numpy as np\n",
    "\n",
    "class Momentum:\n",
    "    def __init__(self, lr = 0.01, momentum = 0.9):\n",
    "        self.lr = lr\n",
    "        self.momentum = momentum\n",
    "        self.v = None\n",
    "        \n",
    "    def update(self, params, grads):\n",
    "        if self.v is None:\n",
    "            self.v = {}\n",
    "            for key, val in params.items():\n",
    "                self.v[key] = np.zeros_like(val)\n",
    "\n",
    "a = np.array([1, 2, 3, 4])\n",
    "print(np.zeros(a))\n",
    "print(np.zeros_like(a))"
   ]
  }
 ],
 "metadata": {
  "kernelspec": {
   "display_name": "base",
   "language": "python",
   "name": "python3"
  },
  "language_info": {
   "codemirror_mode": {
    "name": "ipython",
    "version": 3
   },
   "file_extension": ".py",
   "mimetype": "text/x-python",
   "name": "python",
   "nbconvert_exporter": "python",
   "pygments_lexer": "ipython3",
   "version": "3.9.12"
  },
  "orig_nbformat": 4
 },
 "nbformat": 4,
 "nbformat_minor": 2
}
