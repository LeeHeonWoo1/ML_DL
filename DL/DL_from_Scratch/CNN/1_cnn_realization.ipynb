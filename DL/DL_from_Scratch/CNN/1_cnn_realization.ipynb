{
 "cells": [
  {
   "cell_type": "markdown",
   "metadata": {},
   "source": [
    "### 합성곱/풀링 구현하기\n"
   ]
  },
  {
   "cell_type": "code",
   "execution_count": 3,
   "metadata": {},
   "outputs": [
    {
     "name": "stdout",
     "output_type": "stream",
     "text": [
      "(10, 1, 28, 28)\n",
      "(1, 28, 28)\n",
      "(1, 28, 28)\n"
     ]
    }
   ],
   "source": [
    "import numpy as np\n",
    "\n",
    "x = np.random.rand(10, 1, 28, 28) # 무작위의 4차원 데이터 생성\n",
    "print(x.shape) # (채널1개, 세로 28픽셀, 가로 28픽셀)의 데이터가 10개 있다는 의미\n",
    "\n",
    "print(x[0].shape) # 1번째 데이터의 크기\n",
    "print(x[1].shape) # 2번째 데이터의 크기"
   ]
  },
  {
   "cell_type": "markdown",
   "metadata": {},
   "source": [
    "### im2col(image to column)으로 데이터 전개하기\n",
    "\n",
    "im2col은 입력 데이터를 필터링 하기 좋게 전개하는 함수입니다. 3차원 입력 데이터에 im2col을 적용하면 2차원 행렬로 바뀝니다. 아래는 그 예시입니다.\n",
    "\n",
    "![screensh](../../screenshots/im2col.png)\n",
    "\n",
    "im2col로 입력 데이터를 전개한 다음에는 합성곱 계층의 필터를 1열로 전개하고, 두 행렬의 곱을 계산합니다. <br>\n",
    "출력한 결과는 2차원 행렬입니다. CNN은 데이터를 4차원 배열로 저장하므로 2차원인 출력 데이터를 4차원으로 변형합니다."
   ]
  },
  {
   "cell_type": "markdown",
   "metadata": {},
   "source": [
    "### 합성곱 계층 구현하기"
   ]
  },
  {
   "cell_type": "code",
   "execution_count": 9,
   "metadata": {},
   "outputs": [
    {
     "name": "stdout",
     "output_type": "stream",
     "text": [
      "(9, 75)\n",
      "(90, 75)\n"
     ]
    }
   ],
   "source": [
    "from myfunctions.utils import *\n",
    "\n",
    "# im2col(input_data, filter_h, filter_w, stride, pad) : 인수의 의미는 차례대로 input_data, 필터의 높이, 필터의 너비, 스트라이드, 패딩 수를 의미합니다.\n",
    "\n",
    "x1 = np.random.rand(1, 3, 7, 7)\n",
    "col1 = im2col(x1, 5, 5, stride = 1, pad = 0)\n",
    "print(col1.shape)\n",
    "\n",
    "x2 = np.random.rand(10, 3, 7, 7)\n",
    "col2 = im2col(x2, 5, 5, 1, 0)\n",
    "print(col2.shape)"
   ]
  },
  {
   "cell_type": "code",
   "execution_count": 10,
   "metadata": {},
   "outputs": [],
   "source": [
    "class Convolution:\n",
    "    def __init__(self, W, b, stride = 1, pad = 0):\n",
    "        self.W = W # 가중치(필터 혹은 커널)\n",
    "        self.b = b # 편향값\n",
    "        self.stride = stride # stride\n",
    "        self.pad = pad # padding\n",
    "    \n",
    "    def forward(self, x): # input값을 인자로 받아서\n",
    "        FN, C, FH, FW = self.W.shape # 필터의 개수, 채널수, 필터의 높이, 필터의 너비\n",
    "        N, C, H, W = x.shape # input값의 개수, 채널, input값의 높이, input값의 너비\n",
    "        out_h = int(1 + (H + 2*self.pad - FH) / self.stride) # 출력값의 높이를 공식에 의거해서 계산\n",
    "        out_W = int(1 + (W + 2*self.pad - FW) / self.stride) # 출력값의 너비를 공식에 의거해서 계산\n",
    "        \n",
    "        col = im2col(x, FH, FW, self.stride, self.pad) # img의 컬럼화 함수\n",
    "        col_W = self.W.reshape(FN, -1).T # 필터 전개\n",
    "        out = np.dot(col, col_W) + self.b # \n",
    "        \n",
    "        out = out.reshape(N, out_h, out_W, -1).transpose(0, 3, 1, 2) # transpose의 경우 축의 순서를 인덱스를 기준으로 바꿔준다. \n",
    "                                                                     # 원래 N, out_h, out_w, -1 이었던 순서를 N, -1, out_h, out_w 순으로 바꾼다.\n",
    "        \n",
    "        return out"
   ]
  }
 ],
 "metadata": {
  "kernelspec": {
   "display_name": "base",
   "language": "python",
   "name": "python3"
  },
  "language_info": {
   "codemirror_mode": {
    "name": "ipython",
    "version": 3
   },
   "file_extension": ".py",
   "mimetype": "text/x-python",
   "name": "python",
   "nbconvert_exporter": "python",
   "pygments_lexer": "ipython3",
   "version": "3.9.12"
  },
  "orig_nbformat": 4
 },
 "nbformat": 4,
 "nbformat_minor": 2
}
