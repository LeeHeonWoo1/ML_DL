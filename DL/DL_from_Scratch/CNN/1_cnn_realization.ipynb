{
 "cells": [
  {
   "cell_type": "markdown",
   "metadata": {},
   "source": [
    "### 합성곱/풀링 구현하기\n"
   ]
  },
  {
   "cell_type": "code",
   "execution_count": 3,
   "metadata": {},
   "outputs": [
    {
     "name": "stdout",
     "output_type": "stream",
     "text": [
      "(10, 1, 28, 28)\n",
      "(1, 28, 28)\n",
      "(1, 28, 28)\n"
     ]
    }
   ],
   "source": [
    "import numpy as np\n",
    "\n",
    "x = np.random.rand(10, 1, 28, 28) # 무작위의 4차원 데이터 생성\n",
    "print(x.shape) # (채널1개, 세로 28픽셀, 가로 28픽셀)의 데이터가 10개 있다는 의미\n",
    "\n",
    "print(x[0].shape) # 1번째 데이터의 크기\n",
    "print(x[1].shape) # 2번째 데이터의 크기"
   ]
  },
  {
   "cell_type": "markdown",
   "metadata": {},
   "source": [
    "### im2col(image to column)으로 데이터 전개하기\n",
    "\n",
    "im2col은 입력 데이터를 필터링 하기 좋게 전개하는 함수입니다. 3차원 입력 데이터에 im2col을 적용하면 2차원 행렬로 바뀝니다. 아래는 그 예시입니다.\n",
    "\n",
    "![screensh](../../screenshots/im2col.png)\n",
    "\n",
    "im2col로 입력 데이터를 전개한 다음에는 합성곱 계층의 필터를 1열로 전개하고, 두 행렬의 곱을 계산합니다. <br>\n",
    "출력한 결과는 2차원 행렬입니다. CNN은 데이터를 4차원 배열로 저장하므로 2차원인 출력 데이터를 4차원으로 변형합니다."
   ]
  },
  {
   "cell_type": "markdown",
   "metadata": {},
   "source": [
    "### 합성곱 계층 구현하기"
   ]
  },
  {
   "cell_type": "code",
   "execution_count": null,
   "metadata": {},
   "outputs": [],
   "source": []
  }
 ],
 "metadata": {
  "kernelspec": {
   "display_name": "base",
   "language": "python",
   "name": "python3"
  },
  "language_info": {
   "codemirror_mode": {
    "name": "ipython",
    "version": 3
   },
   "file_extension": ".py",
   "mimetype": "text/x-python",
   "name": "python",
   "nbconvert_exporter": "python",
   "pygments_lexer": "ipython3",
   "version": "3.9.12"
  },
  "orig_nbformat": 4
 },
 "nbformat": 4,
 "nbformat_minor": 2
}
