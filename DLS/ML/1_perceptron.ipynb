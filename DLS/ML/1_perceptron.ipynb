{
 "cells": [
  {
   "cell_type": "markdown",
   "metadata": {},
   "source": [
    "## 퍼셉트론\n",
    "\n",
    "다수의 신호를 입력으로 받아 하나의 신호를 출력하는 구조. \n",
    "\n",
    "<div align=center><img src=\"../images/perceptron.png\"></img></div>\n",
    "\n",
    "x<sub>1</sub>과 x<sub>2</sub>는 입력 신호, y는 출력신호, w<sub>1</sub>과 w<sub>2</sub>는 가중치이다. 입력 신호가 노드로 보내질 때는 각각 고유한 가중치가 곱해진다. (x<sub>1</sub>w<sub>1</sub>, x<sub>2</sub>w<sub>2</sub>) 각 신호의 총합이 정해진 임계값을 넘어설 때만 1을 출력한다.\n",
    "\n",
    "$$y = \\begin{cases} 0,\\;(w_1*x_1 + w_2*x_2 \\le \\theta)\\\\\n",
    "                   1,\\;(w_1*x_1 + w_2*x_2 \\geq \\theta) \\end{cases}$$\n",
    "\n",
    "### 퍼셉트론을 활용한 간단한 문제\n",
    "\n",
    "퍼셉트론을 활용하여 논리회로를 구현해보자. \n",
    "\n",
    "1. AND 게이트\n",
    "\n",
    "|x<sub>1</sub>|x<sub>2</sub>|y|\n",
    "|---|---|---|\n",
    "|0|0|0|\n",
    "|1|0|0|\n",
    "|0|1|0|\n",
    "|1|1|1|\n",
    "\n",
    "2. NAND 게이트, OR 게이트\n",
    "\n",
    "- NAND 게이트 : Not AND를 의미하며, AND 게이트의 부정형이다.\n",
    "\n",
    "|x<sub>1</sub>|x<sub>2</sub>|y|\n",
    "|---|---|---|\n",
    "|0|0|1|\n",
    "|1|0|1|\n",
    "|0|1|1|\n",
    "|1|1|0|\n",
    "\n",
    "- OR 게이트\n",
    "\n",
    "|x<sub>1</sub>|x<sub>2</sub>|y|\n",
    "|---|---|---|\n",
    "|0|0|0|\n",
    "|1|0|1|\n",
    "|0|1|1|\n",
    "|1|1|1|\n"
   ]
  },
  {
   "cell_type": "code",
   "execution_count": 2,
   "metadata": {},
   "outputs": [],
   "source": [
    "def AND_gate(x1, x2):\n",
    "    w1 = 0.5\n",
    "    w2 = 0.5\n",
    "    b = -0.7\n",
    "    result = w1*x1 + w2*x2 + b\n",
    "    if result <= 0:\n",
    "        return 0\n",
    "    elif result > 0:\n",
    "        return 1\n",
    "    \n",
    "def NAND_gate(x1, x2):\n",
    "    w1 = -0.5\n",
    "    w2 = -0.5\n",
    "    b = 0.7\n",
    "    result = w1*x1 + w2*x2 + b\n",
    "    if result <= 0:\n",
    "        return 0\n",
    "    elif result > 0:\n",
    "        return 1\n",
    "    \n",
    "def OR_gate(x1, x2):\n",
    "    w1 = 0.6\n",
    "    w2 = 0.6\n",
    "    b = -0.5\n",
    "    result = w1*x1 + w2*x2 + b\n",
    "    if result <= 0:\n",
    "        return 0\n",
    "    elif result > 0:\n",
    "        return 1"
   ]
  },
  {
   "cell_type": "code",
   "execution_count": 3,
   "metadata": {},
   "outputs": [
    {
     "data": {
      "text/plain": [
       "(0, 0, 0, 1)"
      ]
     },
     "execution_count": 3,
     "metadata": {},
     "output_type": "execute_result"
    }
   ],
   "source": [
    "AND_gate(0, 0), AND_gate(0, 1), AND_gate(1, 0), AND_gate(1, 1)"
   ]
  },
  {
   "cell_type": "code",
   "execution_count": 4,
   "metadata": {},
   "outputs": [
    {
     "data": {
      "text/plain": [
       "(1, 1, 1, 0)"
      ]
     },
     "execution_count": 4,
     "metadata": {},
     "output_type": "execute_result"
    }
   ],
   "source": [
    "NAND_gate(0, 0), NAND_gate(0, 1), NAND_gate(1, 0), NAND_gate(1, 1)"
   ]
  },
  {
   "cell_type": "code",
   "execution_count": 5,
   "metadata": {},
   "outputs": [
    {
     "data": {
      "text/plain": [
       "(0, 1, 1, 1)"
      ]
     },
     "execution_count": 5,
     "metadata": {},
     "output_type": "execute_result"
    }
   ],
   "source": [
    "OR_gate(0, 0), OR_gate(0, 1), OR_gate(1, 0), OR_gate(1, 1)"
   ]
  },
  {
   "cell_type": "markdown",
   "metadata": {},
   "source": [
    "## 퍼셉트론의 한계\n",
    "XOR게이트는 배타적 논리합이라는 논리 회로이다. x<sub>1</sub>과 x<sub>2</sub>중 한쪽이 1일 때만 1을 출력한다.\n",
    "\n",
    "|x<sub>1</sub>|x<sub>2</sub>|y|\n",
    "|---|---|---|\n",
    "|0|0|0|\n",
    "|1|0|1|\n",
    "|0|1|1|\n",
    "|1|1|0|\n",
    "\n",
    "지금껏 논리회로들의 출력값은 좌표평면 상에 직선 하나로만 구분할 수 있었으나, XOR 게이트는 직선 하나로 구분할 수 없다. 퍼셉트론은 직선 하나로 나눈 영역(선형 영역)만 표현할 수 있다는 한계가 있어 이를 다층 퍼셉트론으로 해결한다.\n",
    "\n",
    "## 다층 퍼셉트론\n",
    "\n",
    "XOR 게이트를 파이썬으로 구현하려면 지금껏 구현한 게이트를 합쳐서 구현한다."
   ]
  },
  {
   "cell_type": "code",
   "execution_count": 6,
   "metadata": {},
   "outputs": [
    {
     "data": {
      "text/plain": [
       "(0, 1, 1, 0)"
      ]
     },
     "execution_count": 6,
     "metadata": {},
     "output_type": "execute_result"
    }
   ],
   "source": [
    "def XOR(x1, x2):\n",
    "    s1 = NAND_gate(x1, x2)\n",
    "    s2 = OR_gate(x1, x2)\n",
    "    y = AND_gate(s1, s2)\n",
    "    return y\n",
    "\n",
    "XOR(0, 0), XOR(1, 0), XOR(0, 1), XOR(1, 1)"
   ]
  },
  {
   "cell_type": "markdown",
   "metadata": {},
   "source": [
    "## 정리\n",
    "- 퍼셉트론은 입출력을 갖춘 알고리즘이다. 입력을 주면 정해진 규칙에 따른 값을 출력한다.\n",
    "- 퍼셉트론에서는 '가중치'와 '편향'을 매개변수로 설정한다.\n",
    "- 퍼셉트론으로 AND, OR 게이트 등의 논리 회로를 표현할 수 있다.\n",
    "- XOR 게이트는 단층 퍼셉트론으로는 구현할 수 없다.\n",
    "- 2층 퍼셉트론을 이용하면 XOR게이트를 표현할 수 있다.\n",
    "- 단층 퍼셉트론은 직선형 영역만 표현할 수 있고, 다층 퍼셉트론은 비선형 영역도 표현할 수 있다.\n",
    "- 다층 퍼셉트론은 이론상 컴퓨터를 표현할 수 있다."
   ]
  }
 ],
 "metadata": {
  "kernelspec": {
   "display_name": "base",
   "language": "python",
   "name": "python3"
  },
  "language_info": {
   "codemirror_mode": {
    "name": "ipython",
    "version": 3
   },
   "file_extension": ".py",
   "mimetype": "text/x-python",
   "name": "python",
   "nbconvert_exporter": "python",
   "pygments_lexer": "ipython3",
   "version": "3.9.12"
  }
 },
 "nbformat": 4,
 "nbformat_minor": 2
}
