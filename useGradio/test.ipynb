{
 "cells": [
  {
   "cell_type": "markdown",
   "metadata": {},
   "source": [
    "### Gradio 사용해보기\n",
    "대화형 앱을 간단하게 만들 수 있고, 일정 토큰이상 사용하면 유료화 되는 openAI API와는 다르게 무료로 사용할 수 있다는 것 같았다."
   ]
  },
  {
   "cell_type": "code",
   "execution_count": 1,
   "metadata": {},
   "outputs": [
    {
     "name": "stderr",
     "output_type": "stream",
     "text": [
      "d:\\ML_DL\\useGradio\\testGradio\\lib\\site-packages\\tqdm\\auto.py:21: TqdmWarning: IProgress not found. Please update jupyter and ipywidgets. See https://ipywidgets.readthedocs.io/en/stable/user_install.html\n",
      "  from .autonotebook import tqdm as notebook_tqdm\n"
     ]
    },
    {
     "name": "stdout",
     "output_type": "stream",
     "text": [
      "Running on local URL:  http://127.0.0.1:7861\n",
      "\n",
      "To create a public link, set `share=True` in `launch()`.\n"
     ]
    },
    {
     "data": {
      "text/html": [
       "<div><iframe src=\"http://127.0.0.1:7861/\" width=\"100%\" height=\"500\" allow=\"autoplay; camera; microphone; clipboard-read; clipboard-write;\" frameborder=\"0\" allowfullscreen></iframe></div>"
      ],
      "text/plain": [
       "<IPython.core.display.HTML object>"
      ]
     },
     "metadata": {},
     "output_type": "display_data"
    },
    {
     "data": {
      "text/plain": []
     },
     "execution_count": 1,
     "metadata": {},
     "output_type": "execute_result"
    }
   ],
   "source": [
    "import gradio as gr\n",
    "\n",
    "def greet(name):\n",
    "    return \"Hello \" + name + \"!\"\n",
    "\n",
    "demo = gr.Interface(fn=greet, inputs=\"text\", outputs=\"text\")\n",
    "demo.launch()"
   ]
  },
  {
   "cell_type": "markdown",
   "metadata": {},
   "source": [
    "### Interface\n",
    "gradio 내부에 정의된 클래스인 Interface는 모든 Python 함수를 사용자 인터페이스롤 래핑할 수 있다. 위에서는 단순히 이름에 문자들을 덧붙이는 함수로만 사용했지만, 음악 생성기에서부터 세금 계산기, 사전 훈련된 기계 학습 모델의 예측 함수에 이르기까지 무엇이든 될 수 있다고 공식문서에서 언급하고 있다.\n",
    "\n",
    "Interface클래스는 세 가지 필수 매개변수로 초기화된다.\n",
    "- fn : UI를 감싸는 함수\n",
    "- inputs : 입력에 사용하는 자료의 형태(이를테면 text, image 또는 audio)\n",
    "- outputs : 출력으로 사용할 자료의 형태(마찬가지로 text, image또는 audio)\n",
    "\n",
    "### 구성 요소 속성\n",
    "Textbox UI 구성 요소의 모양이나 동작을 변경할 수도 있다. 만약 입력 텍스트 필드를 개발자가 정의한 유형으로 사용한다고 가정하면, 아래와 같이도 사용할 수 있을 것이다.\n"
   ]
  },
  {
   "cell_type": "code",
   "execution_count": 2,
   "metadata": {},
   "outputs": [
    {
     "name": "stdout",
     "output_type": "stream",
     "text": [
      "Running on local URL:  http://127.0.0.1:7862\n",
      "\n",
      "To create a public link, set `share=True` in `launch()`.\n"
     ]
    },
    {
     "data": {
      "text/html": [
       "<div><iframe src=\"http://127.0.0.1:7862/\" width=\"100%\" height=\"500\" allow=\"autoplay; camera; microphone; clipboard-read; clipboard-write;\" frameborder=\"0\" allowfullscreen></iframe></div>"
      ],
      "text/plain": [
       "<IPython.core.display.HTML object>"
      ]
     },
     "metadata": {},
     "output_type": "display_data"
    },
    {
     "data": {
      "text/plain": []
     },
     "execution_count": 2,
     "metadata": {},
     "output_type": "execute_result"
    }
   ],
   "source": [
    "demo = gr.Interface(\n",
    "    fn=greet,\n",
    "    inputs=gr.Textbox(lines=2, placeholder=\"Input your name here!\"),\n",
    "    outputs=\"text\",\n",
    ")\n",
    "demo.launch() # 화면에서의 Flag를 누르면 input과 그에 따른 output 결과를 log로 남겨준다."
   ]
  },
  {
   "cell_type": "markdown",
   "metadata": {},
   "source": [
    "### 다중 입력 및 출력 구성요소\n",
    "입력과 출력이 여러 개인 좀 더 복잡한 함수가 있다고 가정해보자. 아래 코드블럭에서의 예시는 문자열, 논리 자료형, 숫자를 사용해서 문자열과 숫자를 반환하는 함수를 정의한다. 입력 및 출력 구성 요소 목록을 전달하는 방법을 잘 살펴볼 것."
   ]
  },
  {
   "cell_type": "code",
   "execution_count": 3,
   "metadata": {},
   "outputs": [
    {
     "name": "stdout",
     "output_type": "stream",
     "text": [
      "Running on local URL:  http://127.0.0.1:7863\n",
      "\n",
      "To create a public link, set `share=True` in `launch()`.\n"
     ]
    },
    {
     "data": {
      "text/html": [
       "<div><iframe src=\"http://127.0.0.1:7863/\" width=\"100%\" height=\"500\" allow=\"autoplay; camera; microphone; clipboard-read; clipboard-write;\" frameborder=\"0\" allowfullscreen></iframe></div>"
      ],
      "text/plain": [
       "<IPython.core.display.HTML object>"
      ]
     },
     "metadata": {},
     "output_type": "display_data"
    },
    {
     "data": {
      "text/plain": []
     },
     "execution_count": 3,
     "metadata": {},
     "output_type": "execute_result"
    }
   ],
   "source": [
    "def greet2(name, is_morning, temp):\n",
    "    salutation = \"Good Morning\" if is_morning else \"Good Evening\"\n",
    "    greeting = f\"{salutation} {name}. It is {temp} degrees today\"\n",
    "    celsius = (temp - 32) * 5 / 9\n",
    "    return greeting, round(celsius, 2)\n",
    "\n",
    "demo = gr.Interface(\n",
    "    fn=greet2,\n",
    "    inputs=[\"text\", \"checkbox\", gr.Slider(0, 100)],\n",
    "    outputs=[\"text\", \"number\"],\n",
    ")\n",
    "\n",
    "demo.launch()"
   ]
  },
  {
   "cell_type": "markdown",
   "metadata": {},
   "source": [
    "입력 요소가 여러 개일 때는 리스트로 감싸주기만 하면 된다. inputs목록의 각 구성요소는 순서대로 함수의 매개변수에 할당된다. 마찬가지로, outputs목록의 각 구성요소는 반환값에 매핑된다.\n",
    "\n",
    "### 이미지 다뤄보기\n",
    "ImageGradio는 DataFrame ,Video, Label과 같은 다양한 구성요소를 지원한다. 이에 대한 예제를 아래에서 살펴본다. "
   ]
  },
  {
   "cell_type": "code",
   "execution_count": 4,
   "metadata": {},
   "outputs": [
    {
     "name": "stdout",
     "output_type": "stream",
     "text": [
      "Running on local URL:  http://127.0.0.1:7864\n",
      "\n",
      "To create a public link, set `share=True` in `launch()`.\n"
     ]
    },
    {
     "data": {
      "text/html": [
       "<div><iframe src=\"http://127.0.0.1:7864/\" width=\"100%\" height=\"500\" allow=\"autoplay; camera; microphone; clipboard-read; clipboard-write;\" frameborder=\"0\" allowfullscreen></iframe></div>"
      ],
      "text/plain": [
       "<IPython.core.display.HTML object>"
      ]
     },
     "metadata": {},
     "output_type": "display_data"
    },
    {
     "data": {
      "text/plain": []
     },
     "execution_count": 4,
     "metadata": {},
     "output_type": "execute_result"
    }
   ],
   "source": [
    "import numpy as np\n",
    "\n",
    "def sepia(input_img):\n",
    "    sepia_filter = np.array([\n",
    "        [0.393, 0.769, 0.189], \n",
    "        [0.349, 0.686, 0.168], \n",
    "        [0.272, 0.534, 0.131]\n",
    "    ])\n",
    "    \n",
    "    sepia_img = input_img.dot(sepia_filter.T)\n",
    "    sepia_img /= sepia_img.max()\n",
    "    return sepia_img\n",
    "\n",
    "demo = gr.Interface(sepia, gr.Image(shape=(200, 200)), \"image\")\n",
    "demo.launch()"
   ]
  },
  {
   "cell_type": "markdown",
   "metadata": {},
   "source": [
    "Image구성 요소를 입력으로 사용하면 함수는 (height, width, 3)shape가 있는 numpy 배열을 받게 된다. 여기서 마지막 차원은 RGB값을 나타내며, 이 함수에서 반환하는 것은 Numpy 배열 형태로 이미지를 반환한다.\n",
    "\n",
    "`type=`이라는 키워드 인자값으로 구성요소에서 사용하는 데이터 타입을 지정할 수 있다. 예를 들어 함수가 Numpy 배열 대신에 이미지에 대한 파일 경로를 사용하도록 하려면 아래와 같이 작성하면 된다.\n",
    "\n",
    "```py\n",
    "gr.Image(type=\"filepath\", shape= ...)\n",
    "```\n",
    "\n",
    "또한 입력 구성요소에서는 이미지를 자르고 확대할 수 있는 편집 버튼이 함께 제공된다. 이러한 방식으로 이미지를 조작하면 기계 학습 모델의 결점을 보완하는 과정에 도움이 될 것이다.\n",
    "\n",
    "### 챗봇"
   ]
  },
  {
   "cell_type": "code",
   "execution_count": 5,
   "metadata": {},
   "outputs": [
    {
     "name": "stdout",
     "output_type": "stream",
     "text": [
      "Running on local URL:  http://127.0.0.1:7865\n",
      "\n",
      "To create a public link, set `share=True` in `launch()`.\n"
     ]
    },
    {
     "data": {
      "text/html": [
       "<div><iframe src=\"http://127.0.0.1:7865/\" width=\"100%\" height=\"500\" allow=\"autoplay; camera; microphone; clipboard-read; clipboard-write;\" frameborder=\"0\" allowfullscreen></iframe></div>"
      ],
      "text/plain": [
       "<IPython.core.display.HTML object>"
      ]
     },
     "metadata": {},
     "output_type": "display_data"
    },
    {
     "data": {
      "text/plain": []
     },
     "execution_count": 5,
     "metadata": {},
     "output_type": "execute_result"
    }
   ],
   "source": [
    "import random\n",
    "\n",
    "def random_response(message, history):\n",
    "    return random.choice([\"Yes\", \"No\"])\n",
    "\n",
    "demo = gr.ChatInterface(random_response)\n",
    "demo.launch()"
   ]
  }
 ],
 "metadata": {
  "kernelspec": {
   "display_name": "base",
   "language": "python",
   "name": "python3"
  },
  "language_info": {
   "codemirror_mode": {
    "name": "ipython",
    "version": 3
   },
   "file_extension": ".py",
   "mimetype": "text/x-python",
   "name": "python",
   "nbconvert_exporter": "python",
   "pygments_lexer": "ipython3",
   "version": "3.9.12"
  }
 },
 "nbformat": 4,
 "nbformat_minor": 2
}
