{
 "cells": [
  {
   "attachments": {},
   "cell_type": "markdown",
   "metadata": {},
   "source": [
    "### Numpy\n",
    "\n",
    "넘파이를 이해하는 것은 파이썬 기반의 머신러닝에서 매우 중요하다. 많은 머신러닝 알고리즘이 넘파이 기반으로 작성되어 있음은 물론, 이들 알고리즘의 입력 데이터와 출력 데이터를 넘파이 배열 타입으로 사용하기 때문이다. 또한 넘파이가 배열을 다루는 기본 방식을 이해하는 것은 다른 데이터 핸들링 패키지(Pandas)를 이해하는데도 많은 도움이 된다."
   ]
  },
  {
   "cell_type": "code",
   "execution_count": 1,
   "metadata": {},
   "outputs": [
    {
     "name": "stdout",
     "output_type": "stream",
     "text": [
      "array1's type, shape, dimention : (<class 'numpy.ndarray'>, (3,), 1)\n",
      "array2's type, shape, dimention : (<class 'numpy.ndarray'>, (2, 3), 2)\n",
      "array3's type, shape, dimention : (<class 'numpy.ndarray'>, (1, 3), 2)\n"
     ]
    }
   ],
   "source": [
    "# ndarray 개요\n",
    "\n",
    "import numpy as np\n",
    "\n",
    "array1 = np.array([1, 2, 3])\n",
    "array2 = np.array([[1, 2, 3], [4, 5, 6]])\n",
    "array3 = np.array([[1, 2, 3]])\n",
    "\n",
    "print(f\"array1's type, shape, dimention : {type(array1), array1.shape, array1.ndim}\") # 1차원 데이터 => 3개의 데이터\n",
    "print(f\"array2's type, shape, dimention : {type(array2), array2.shape, array2.ndim}\") # 2차원 데이터 : 2 rows, 3 columns => 2 x 3 = 6개의 데이터\n",
    "print(f\"array3's type, shape, dimention : {type(array3), array3.shape, array3.ndim}\") # 2차원 데이터 : 1 row, 3 columns => 1 x 3 = 3개의 데이터\n",
    "\n",
    "# 위의 array1과 array3는 동일하게 3개의 데이터를 가지고 있음에도 array3은 2차원 데이터이고, array1은 1차원 데이터이다. \n",
    "# array3의 경우 행이 1개라고 명시한 경우이기에, 명백하게 1개의 행, 3개의 열을 가지고 있는 2차원 데이터인 것이다.\n",
    "# 이러한 차이를 알아두는 것은, 꽤나 중요하다."
   ]
  },
  {
   "attachments": {},
   "cell_type": "markdown",
   "metadata": {},
   "source": [
    "### data type of ndarray\n",
    "\n",
    "ndarray 내의 데이터 값은 숫자 값, 문자열 값, 논리값 등 모두 가능하다. 숫자형의 경우 아래와 같은 자료형이 존재한다.\n",
    "\n",
    "- int(8bit, 16bit, 32bit)\n",
    "- unsigned int(8bit, 16bit, 32bit)\n",
    "- float(16bit, 32bit, 64bit, 128bit)\n",
    "- complex\n",
    "\n",
    "ndarray 내의 데이터 타입은 그 연산의 특성 상 같은 데이터 타입만 가능하다. 즉, 한 개의 ndarray 객체에 int와 float가 함께 있을 수 없다. ndarray 내의 데이터 타입은 dtype 속성으로 확인할 수 있다."
   ]
  },
  {
   "cell_type": "code",
   "execution_count": 2,
   "metadata": {},
   "outputs": [
    {
     "name": "stdout",
     "output_type": "stream",
     "text": [
      "<class 'list'>\n",
      "[1 2 3] <class 'numpy.ndarray'> int32\n",
      "['1' '2' 'list'] <class 'numpy.ndarray'> <U11\n",
      "[1. 2. 3.] <class 'numpy.ndarray'> float64\n"
     ]
    }
   ],
   "source": [
    "list1 = [1, 2, 3] # python의 list 자료형 정의\n",
    "print(type(list1)) # <class 'list'>임을 확인할 수 있고\n",
    "array1 = np.array(list1) # ndarray 타입으로 바꿀 수 있는데,\n",
    "print(array1, type(array1), array1.dtype) # 바뀐 타입은 int32bit 형태이다.\n",
    "\n",
    "# 만약 리스트 내부에 다른 형태의 자료형들이 있다면 변환 시 어떻게 될까?\n",
    "list2 = [1, 2, 'list']\n",
    "list3 = [1, 2, 3.0]\n",
    "array2 = np.array(list2)\n",
    "array3 = np.array(list3)\n",
    "print(array2, type(array2), array2.dtype)\n",
    "print(array3, type(array3), array3.dtype)\n",
    "\n",
    "# 다른 데이터 유형이 섞여 있는 리스트를 ndarray로 바꾸려 한다면 데이터 크기가 더 큰 데이터 타입으로 형 변환을 일괄 적용한다.\n",
    "# array2의 경우 데이터의 크기가 더 큰 string 형태로 변환되어 1과 2가 unicode 문자열 값으로 변환되었다.\n",
    "# array3의 경우 int형과 float형이 섞인 형태로, 1과 2가 1. 2. float64bit 형태로 변경되었다."
   ]
  },
  {
   "attachments": {},
   "cell_type": "markdown",
   "metadata": {},
   "source": [
    "### arange, zeros, ones, reshape\n",
    "\n",
    "|함수명|설명|\n",
    "|---|---|\n",
    "|np.arange(n)|파이썬 표준 함수인 range()와 비슷한 역할을 한다. 0 ~ n직전까지의 정수값 배열(ndarray)을 반환한다.|\n",
    "|np.zeros((n, m), dtype='')|n x m 크기를 0으로 채운 배열을 반환한다. dtype을 지정할 수 있으며, 지정하지 않을 경우 default값인 float64로 지정된다.|\n",
    "|np.ones((n, m), dtype='')|n x m 크기를 1로 채운 배열을 반환한다. dtype을 지정할 수 있으며, 지정하지 않을 경우 default값인 float64로 지정된다.|\n",
    "|array.reshape(n, m)|자료형의 크기가 y이고, n x m = y일 때, 기존 자료형의 크기를 (n, m)으로 변경한다. 이 때 n 과 m 둘 중 하나를 -1로 지정하면 나머지 값에 맞춰 배열이 생성된다.|"
   ]
  },
  {
   "cell_type": "code",
   "execution_count": 3,
   "metadata": {},
   "outputs": [
    {
     "name": "stdout",
     "output_type": "stream",
     "text": [
      "[0 1 2 3 4 5 6 7 8 9]\n",
      "[[0. 0. 0.]\n",
      " [0. 0. 0.]]\n",
      "[[1 1 1 1 1 1]]\n",
      "[[0 1 2 3 4]\n",
      " [5 6 7 8 9]]\n",
      "[[ 0  1  2  3]\n",
      " [ 4  5  6  7]\n",
      " [ 8  9 10 11]\n",
      " [12 13 14 15]\n",
      " [16 17 18 19]]\n",
      "array3d : [[[0 1]\n",
      "  [2 3]]\n",
      "\n",
      " [[4 5]\n",
      "  [6 7]]]\n",
      "array2d : [[0], [1], [2], [3], [4], [5], [6], [7]] array2d's shape : (8, 1)\n",
      "array2d : [[0], [1], [2], [3], [4], [5], [6], [7]] array2d's shape : (8, 1)\n"
     ]
    }
   ],
   "source": [
    "# 함수 사용 예시\n",
    "print(np.arange(10)) # 0 ~ 10 직전인 9까지의 정수 배열 생성\n",
    "print(np.zeros((2, 3))) # dtype을 지정하지 않았기에 float64형태인 0. 으로 배열 생성\n",
    "print(np.ones((1, 6), dtype='int64')) # int64 형태의 1로 채워진 배열 생성\n",
    "print(np.arange(10).reshape(2, 5)) # 0 ~ 9 까지의 10개의 배열 생성 후 2개의 행, 5개의 열로 이뤄진 배열로 재구성.\n",
    "print(np.arange(20).reshape(5, -1)) # 5행을 입력했기에, -1에 4가 할당되어 5행 4열의 배열로 재구성.\n",
    "\n",
    "# 3차원 -> 2차원, 1차원 -> 2차원\n",
    "array1 = np.arange(8)\n",
    "array3d = array1.reshape((2, 2, 2))\n",
    "print(f\"array3d : {array3d}\")\n",
    "\n",
    "# 3차원 -> 2차원\n",
    "to2dArray = array3d.reshape(-1, 1) # 1열을 입력했기에, -1에 8행이 할당되어 8행 1열의 배열로 재구성\n",
    "print(f\"array2d : {to2dArray.tolist()} array2d's shape : {to2dArray.shape}\")\n",
    "\n",
    "# 1차원 -> 2차원\n",
    "to2dArray2 = array1.reshape(-1, 1)\n",
    "print(f\"array2d : {to2dArray2.tolist()} array2d's shape : {to2dArray2.shape}\")"
   ]
  },
  {
   "attachments": {},
   "cell_type": "markdown",
   "metadata": {},
   "source": [
    "### ndarray's indexing\n",
    "|종류|설명|\n",
    "|---|---|\n",
    "|특정 데이터 추출|원하는 위치의 인덱스 값을 지정하면 해당 위치의 데이터가 반환|\n",
    "|Slicing|연속된 인덱스 상의 ndarray를 추출 (1:5 ➡️ 1부터 4인덱스에 해당하는 데이터들을 반환)|\n",
    "|Fancy Indexing|일정한 인덱싱 집합을 ndarray형태로 지정해 해당 위치에 있는 데이터의 ndarray를 반환|\n",
    "|Boolean Indexing|특정 조건에 해당하는지 여부인 True/False 값 인덱싱 집합을 기반으로 True에 해당하는 인덱스 위치에 있는 데이터의 ndarray를 반환|"
   ]
  },
  {
   "cell_type": "code",
   "execution_count": 4,
   "metadata": {},
   "outputs": [
    {
     "name": "stdout",
     "output_type": "stream",
     "text": [
      "\n",
      "array : [1 2 3 4 5 6 7 8 9]\n",
      "value : 3\n",
      "type  : <class 'numpy.int32'>\n",
      "\n",
      "array2d[0:2, 0:2] :\n",
      " [[1 2]\n",
      " [4 5]]\n",
      "array2d[1:3, 0:3] :\n",
      " [[4 5 6]\n",
      " [7 8 9]]\n",
      "array2d[1:3, :] :\n",
      " [[4 5 6]\n",
      " [7 8 9]]\n",
      "array2d[[0, 1], 2] -> [3 6]\n",
      "[0 2 4 6 8]\n",
      "0array1d > 5 불린 인덱싱 결과 값 : [6 7 8 9]\n",
      "[False False False False False  True  True  True  True]\n"
     ]
    }
   ],
   "source": [
    "# 단일값 추출\n",
    "array1 = np.arange(1, 10)\n",
    "print(f\"\"\"\n",
    "array : {array1}\n",
    "value : {array1[2]}\n",
    "type  : {type(array1[2])}\n",
    "\"\"\")\n",
    "\n",
    "# Slicing\n",
    "array2d = array1.reshape(3, 3)\n",
    "print(f\"array2d[0:2, 0:2] :\\n {array2d[0:2, 0:2]}\") # 0부터 2직전 행까지, 0부터 2직전 열까지 출력\n",
    "print(f\"array2d[1:3, 0:3] :\\n {array2d[1:3, 0:3]}\") # 1부터 3직전 행까지, 0부터 3직전 열까지 출력\n",
    "print(f\"array2d[1:3, :] :\\n {array2d[1:3, :]}\") # 1부터 3직전 행까지 모든 열 출력\n",
    "\n",
    "# Fancy Indexing\n",
    "array1d = np.arange(start=1, stop=10)\n",
    "array2d = array1d.reshape(3, 3)\n",
    "\n",
    "array3 = array2d[[0, 1], 2]\n",
    "print(f'array2d[[0, 1], 2] -> {array3}') # row 축에 Fancy Indexing인 [0, 1]을, column 축에는 단일 값 인덱싱 2를 적용했다.\n",
    "                                          # 따라서 (row, col) 인덱스가 (0, 2), (1, 2)로 적용되어 [3, 6]을 반환한다.\n",
    "\n",
    "array = np.array([i for i in range(10)])\n",
    "idx = np.array([True, False, True, False, True, False, True, False, True, False])\n",
    "\n",
    "print(array[idx]) # False인 항들은 출력이 되지 않는 모습을 확인할 수 있다.\n",
    "                                          \n",
    "# Boolean Indexing\n",
    "array1d = np.arange(1, 10)\n",
    "# [ ] 안에 array1d > 5 인 조건식을 사용함으로서 Boolean Indexing 적용\n",
    "array3 = array1d[array1d > 5]\n",
    "print(f'0array1d > 5 불린 인덱싱 결과 값 : {array3}')\n",
    "print(array1d > 5)"
   ]
  },
  {
   "attachments": {},
   "cell_type": "markdown",
   "metadata": {},
   "source": [
    "### sort(), argsort()\n",
    "\n",
    "|함수|설명|\n",
    "|---|---|\n",
    "|np.sort()|원 행렬은 그대로 유지한 채 정렬된 행렬을 반환한다.|\n",
    "|np.argsort()|정렬된 행렬의 기존 원본 행렬의 원소에 대한 인덱스를 반환한다.|"
   ]
  },
  {
   "cell_type": "code",
   "execution_count": 6,
   "metadata": {},
   "outputs": [
    {
     "name": "stdout",
     "output_type": "stream",
     "text": [
      "원본 행렬 : [3 1 8 5]\n",
      "np.sort() 호출 후 반환된 정렬 행렬 : [1 3 5 8]\n",
      "np.sort() 호출 후 원본 행렬 : [3 1 8 5]\n",
      "<class 'numpy.ndarray'>\n",
      "행렬 정렬 시 원본 행렬의 인덱스 : [1 0 3 2]\n"
     ]
    }
   ],
   "source": [
    "# np.sort()\n",
    "org_array = np.array([3, 1, 8, 5])\n",
    "print(f'원본 행렬 : {org_array}')\n",
    "# np.sort()로 정렬\n",
    "sort_array1 = np.sort(org_array)\n",
    "print(f'np.sort() 호출 후 반환된 정렬 행렬 : {sort_array1}')\n",
    "print(f'np.sort() 호출 후 원본 행렬 : {org_array}')\n",
    "\n",
    "# np.argsort()\n",
    "org_array = np.array([3, 1, 9, 5])\n",
    "sort_indicies = np.argsort(org_array)\n",
    "print(type(sort_indicies))\n",
    "print(f'행렬 정렬 시 원본 행렬의 인덱스 : {sort_indicies}')"
   ]
  },
  {
   "cell_type": "markdown",
   "metadata": {},
   "source": [
    "### 선형대수 연산(행렬 내적, 전치행렬)\n",
    "넘파이는 매우 다양한 선형 대수 연산을 지원한다. 그 중 가장 많이 사용됨녀서도 기본 연산인 행렬 내적과 전치 행렬을 구하는 방법은 아래와 같다.\n",
    "\n",
    "|함수|설명|\n",
    "|---|---|\n",
    "|np.dot()|두 ndarray의 행렬 내적을 구한다.|\n",
    "|np.transpose()|ndarray의 전치행렬을 구한다.|"
   ]
  },
  {
   "cell_type": "code",
   "execution_count": 11,
   "metadata": {},
   "outputs": [
    {
     "name": "stdout",
     "output_type": "stream",
     "text": [
      "A, B행렬의 내적값 : \n",
      " [[ 58  64]\n",
      " [139 154]]\n",
      "A행렬의 전치행렬 : \n",
      " [[1 4]\n",
      " [2 5]\n",
      " [3 6]]\n",
      "B행렬의 전치행렬 : \n",
      " [[ 7  9 11]\n",
      " [ 8 10 12]]\n"
     ]
    }
   ],
   "source": [
    "# 행렬내적(행렬곱)\n",
    "A = np.array([[1, 2, 3], [4, 5, 6]])\n",
    "B = np.array([[7, 8], [9, 10], [11, 12]])\n",
    "\n",
    "print(f'A, B행렬의 내적값 : \\n {np.dot(A, B)}')\n",
    "\n",
    "# 전치행렬\n",
    "print(f'A행렬의 전치행렬 : \\n {np.transpose(A)}')\n",
    "print(f'B행렬의 전치행렬 : \\n {np.transpose(B)}')"
   ]
  }
 ],
 "metadata": {
  "kernelspec": {
   "display_name": "base",
   "language": "python",
   "name": "python3"
  },
  "language_info": {
   "codemirror_mode": {
    "name": "ipython",
    "version": 3
   },
   "file_extension": ".py",
   "mimetype": "text/x-python",
   "name": "python",
   "nbconvert_exporter": "python",
   "pygments_lexer": "ipython3",
   "version": "3.9.12"
  },
  "orig_nbformat": 4
 },
 "nbformat": 4,
 "nbformat_minor": 2
}
